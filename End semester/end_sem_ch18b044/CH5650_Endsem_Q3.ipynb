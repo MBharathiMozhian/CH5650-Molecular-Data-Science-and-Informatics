{
  "nbformat": 4,
  "nbformat_minor": 0,
  "metadata": {
    "colab": {
      "provenance": []
    },
    "kernelspec": {
      "name": "python3",
      "display_name": "Python 3"
    },
    "language_info": {
      "name": "python"
    }
  },
  "cells": [
    {
      "cell_type": "code",
      "execution_count": null,
      "metadata": {
        "colab": {
          "base_uri": "https://localhost:8080/"
        },
        "id": "XELvR7ND3LRx",
        "outputId": "f3f0bce0-f15a-4487-f11f-dcc6423d7987"
      },
      "outputs": [
        {
          "output_type": "stream",
          "name": "stdout",
          "text": [
            "Looking in indexes: https://pypi.org/simple, https://us-python.pkg.dev/colab-wheels/public/simple/\n",
            "Collecting rdkit\n",
            "  Downloading rdkit-2023.3.1-cp310-cp310-manylinux_2_17_x86_64.manylinux2014_x86_64.whl (29.7 MB)\n",
            "\u001b[2K     \u001b[90m━━━━━━━━━━━━━━━━━━━━━━━━━━━━━━━━━━━━━━━━\u001b[0m \u001b[32m29.7/29.7 MB\u001b[0m \u001b[31m45.6 MB/s\u001b[0m eta \u001b[36m0:00:00\u001b[0m\n",
            "\u001b[?25hRequirement already satisfied: numpy in /usr/local/lib/python3.10/dist-packages (from rdkit) (1.22.4)\n",
            "Requirement already satisfied: Pillow in /usr/local/lib/python3.10/dist-packages (from rdkit) (8.4.0)\n",
            "Installing collected packages: rdkit\n",
            "Successfully installed rdkit-2023.3.1\n"
          ]
        }
      ],
      "source": [
        "!pip install rdkit"
      ]
    },
    {
      "cell_type": "code",
      "source": [
        "!pip install tensorflow"
      ],
      "metadata": {
        "colab": {
          "base_uri": "https://localhost:8080/"
        },
        "id": "9-h3zbIk3Tox",
        "outputId": "a23ddcaa-1756-49e0-e680-7f4f409c4063"
      },
      "execution_count": null,
      "outputs": [
        {
          "output_type": "stream",
          "name": "stdout",
          "text": [
            "Looking in indexes: https://pypi.org/simple, https://us-python.pkg.dev/colab-wheels/public/simple/\n",
            "Requirement already satisfied: tensorflow in /usr/local/lib/python3.10/dist-packages (2.12.0)\n",
            "Requirement already satisfied: absl-py>=1.0.0 in /usr/local/lib/python3.10/dist-packages (from tensorflow) (1.4.0)\n",
            "Requirement already satisfied: astunparse>=1.6.0 in /usr/local/lib/python3.10/dist-packages (from tensorflow) (1.6.3)\n",
            "Requirement already satisfied: flatbuffers>=2.0 in /usr/local/lib/python3.10/dist-packages (from tensorflow) (23.3.3)\n",
            "Requirement already satisfied: gast<=0.4.0,>=0.2.1 in /usr/local/lib/python3.10/dist-packages (from tensorflow) (0.4.0)\n",
            "Requirement already satisfied: google-pasta>=0.1.1 in /usr/local/lib/python3.10/dist-packages (from tensorflow) (0.2.0)\n",
            "Requirement already satisfied: grpcio<2.0,>=1.24.3 in /usr/local/lib/python3.10/dist-packages (from tensorflow) (1.54.0)\n",
            "Requirement already satisfied: h5py>=2.9.0 in /usr/local/lib/python3.10/dist-packages (from tensorflow) (3.8.0)\n",
            "Requirement already satisfied: jax>=0.3.15 in /usr/local/lib/python3.10/dist-packages (from tensorflow) (0.4.8)\n",
            "Requirement already satisfied: keras<2.13,>=2.12.0 in /usr/local/lib/python3.10/dist-packages (from tensorflow) (2.12.0)\n",
            "Requirement already satisfied: libclang>=13.0.0 in /usr/local/lib/python3.10/dist-packages (from tensorflow) (16.0.0)\n",
            "Requirement already satisfied: numpy<1.24,>=1.22 in /usr/local/lib/python3.10/dist-packages (from tensorflow) (1.22.4)\n",
            "Requirement already satisfied: opt-einsum>=2.3.2 in /usr/local/lib/python3.10/dist-packages (from tensorflow) (3.3.0)\n",
            "Requirement already satisfied: packaging in /usr/local/lib/python3.10/dist-packages (from tensorflow) (23.1)\n",
            "Requirement already satisfied: protobuf!=4.21.0,!=4.21.1,!=4.21.2,!=4.21.3,!=4.21.4,!=4.21.5,<5.0.0dev,>=3.20.3 in /usr/local/lib/python3.10/dist-packages (from tensorflow) (3.20.3)\n",
            "Requirement already satisfied: setuptools in /usr/local/lib/python3.10/dist-packages (from tensorflow) (67.7.2)\n",
            "Requirement already satisfied: six>=1.12.0 in /usr/local/lib/python3.10/dist-packages (from tensorflow) (1.16.0)\n",
            "Requirement already satisfied: tensorboard<2.13,>=2.12 in /usr/local/lib/python3.10/dist-packages (from tensorflow) (2.12.2)\n",
            "Requirement already satisfied: tensorflow-estimator<2.13,>=2.12.0 in /usr/local/lib/python3.10/dist-packages (from tensorflow) (2.12.0)\n",
            "Requirement already satisfied: termcolor>=1.1.0 in /usr/local/lib/python3.10/dist-packages (from tensorflow) (2.3.0)\n",
            "Requirement already satisfied: typing-extensions>=3.6.6 in /usr/local/lib/python3.10/dist-packages (from tensorflow) (4.5.0)\n",
            "Requirement already satisfied: wrapt<1.15,>=1.11.0 in /usr/local/lib/python3.10/dist-packages (from tensorflow) (1.14.1)\n",
            "Requirement already satisfied: tensorflow-io-gcs-filesystem>=0.23.1 in /usr/local/lib/python3.10/dist-packages (from tensorflow) (0.32.0)\n",
            "Requirement already satisfied: wheel<1.0,>=0.23.0 in /usr/local/lib/python3.10/dist-packages (from astunparse>=1.6.0->tensorflow) (0.40.0)\n",
            "Requirement already satisfied: ml-dtypes>=0.0.3 in /usr/local/lib/python3.10/dist-packages (from jax>=0.3.15->tensorflow) (0.1.0)\n",
            "Requirement already satisfied: scipy>=1.7 in /usr/local/lib/python3.10/dist-packages (from jax>=0.3.15->tensorflow) (1.10.1)\n",
            "Requirement already satisfied: google-auth<3,>=1.6.3 in /usr/local/lib/python3.10/dist-packages (from tensorboard<2.13,>=2.12->tensorflow) (2.17.3)\n",
            "Requirement already satisfied: google-auth-oauthlib<1.1,>=0.5 in /usr/local/lib/python3.10/dist-packages (from tensorboard<2.13,>=2.12->tensorflow) (1.0.0)\n",
            "Requirement already satisfied: markdown>=2.6.8 in /usr/local/lib/python3.10/dist-packages (from tensorboard<2.13,>=2.12->tensorflow) (3.4.3)\n",
            "Requirement already satisfied: requests<3,>=2.21.0 in /usr/local/lib/python3.10/dist-packages (from tensorboard<2.13,>=2.12->tensorflow) (2.27.1)\n",
            "Requirement already satisfied: tensorboard-data-server<0.8.0,>=0.7.0 in /usr/local/lib/python3.10/dist-packages (from tensorboard<2.13,>=2.12->tensorflow) (0.7.0)\n",
            "Requirement already satisfied: tensorboard-plugin-wit>=1.6.0 in /usr/local/lib/python3.10/dist-packages (from tensorboard<2.13,>=2.12->tensorflow) (1.8.1)\n",
            "Requirement already satisfied: werkzeug>=1.0.1 in /usr/local/lib/python3.10/dist-packages (from tensorboard<2.13,>=2.12->tensorflow) (2.3.0)\n",
            "Requirement already satisfied: cachetools<6.0,>=2.0.0 in /usr/local/lib/python3.10/dist-packages (from google-auth<3,>=1.6.3->tensorboard<2.13,>=2.12->tensorflow) (5.3.0)\n",
            "Requirement already satisfied: pyasn1-modules>=0.2.1 in /usr/local/lib/python3.10/dist-packages (from google-auth<3,>=1.6.3->tensorboard<2.13,>=2.12->tensorflow) (0.3.0)\n",
            "Requirement already satisfied: rsa<5,>=3.1.4 in /usr/local/lib/python3.10/dist-packages (from google-auth<3,>=1.6.3->tensorboard<2.13,>=2.12->tensorflow) (4.9)\n",
            "Requirement already satisfied: requests-oauthlib>=0.7.0 in /usr/local/lib/python3.10/dist-packages (from google-auth-oauthlib<1.1,>=0.5->tensorboard<2.13,>=2.12->tensorflow) (1.3.1)\n",
            "Requirement already satisfied: urllib3<1.27,>=1.21.1 in /usr/local/lib/python3.10/dist-packages (from requests<3,>=2.21.0->tensorboard<2.13,>=2.12->tensorflow) (1.26.15)\n",
            "Requirement already satisfied: certifi>=2017.4.17 in /usr/local/lib/python3.10/dist-packages (from requests<3,>=2.21.0->tensorboard<2.13,>=2.12->tensorflow) (2022.12.7)\n",
            "Requirement already satisfied: charset-normalizer~=2.0.0 in /usr/local/lib/python3.10/dist-packages (from requests<3,>=2.21.0->tensorboard<2.13,>=2.12->tensorflow) (2.0.12)\n",
            "Requirement already satisfied: idna<4,>=2.5 in /usr/local/lib/python3.10/dist-packages (from requests<3,>=2.21.0->tensorboard<2.13,>=2.12->tensorflow) (3.4)\n",
            "Requirement already satisfied: MarkupSafe>=2.1.1 in /usr/local/lib/python3.10/dist-packages (from werkzeug>=1.0.1->tensorboard<2.13,>=2.12->tensorflow) (2.1.2)\n",
            "Requirement already satisfied: pyasn1<0.6.0,>=0.4.6 in /usr/local/lib/python3.10/dist-packages (from pyasn1-modules>=0.2.1->google-auth<3,>=1.6.3->tensorboard<2.13,>=2.12->tensorflow) (0.5.0)\n",
            "Requirement already satisfied: oauthlib>=3.0.0 in /usr/local/lib/python3.10/dist-packages (from requests-oauthlib>=0.7.0->google-auth-oauthlib<1.1,>=0.5->tensorboard<2.13,>=2.12->tensorflow) (3.2.2)\n"
          ]
        }
      ]
    },
    {
      "cell_type": "code",
      "source": [
        "# import packages\n",
        "import pandas as pd\n",
        "from rdkit import Chem\n",
        "from rdkit.Chem import AllChem\n",
        "from rdkit.ML.Descriptors.MoleculeDescriptors import MolecularDescriptorCalculator\n",
        "from rdkit.Chem import Descriptors\n",
        "from sklearn.model_selection import train_test_split\n",
        "from sklearn.preprocessing import StandardScaler\n",
        "from keras.models import Sequential\n",
        "from keras.layers import Conv1D, MaxPooling1D, Flatten, Dense, Dropout\n",
        "import tensorflow as tf\n",
        "from tensorflow import keras\n",
        "import numpy as np\n",
        "import matplotlib.pyplot as plt"
      ],
      "metadata": {
        "id": "N5MnP7q43VBi"
      },
      "execution_count": null,
      "outputs": []
    },
    {
      "cell_type": "code",
      "source": [
        "# reading data stored in CSV file into a pandas dataframe\n",
        "data_df = pd.read_csv('/content/DataSet3.csv')"
      ],
      "metadata": {
        "id": "LJjjNtCkUNw7"
      },
      "execution_count": null,
      "outputs": []
    },
    {
      "cell_type": "code",
      "source": [
        "data_df.head()"
      ],
      "metadata": {
        "colab": {
          "base_uri": "https://localhost:8080/",
          "height": 206
        },
        "id": "CnycjQ3iUUaE",
        "outputId": "a8384c42-a8bb-4a0d-afc4-2c3a2e84ae77"
      },
      "execution_count": null,
      "outputs": [
        {
          "output_type": "execute_result",
          "data": {
            "text/plain": [
              "   Unnamed: 0 SMILES string  Homo-lumo band gap   Enthalpy  Specific Heat\n",
              "0           0             C              0.5048 -40.475117          6.469\n",
              "1           1             N              0.3399 -56.522082          6.316\n",
              "2           2             O              0.3615 -76.400922          6.002\n",
              "3           3           C#C              0.3351 -77.304583          8.574\n",
              "4           4           C#N              0.3796 -93.408425          6.278"
            ],
            "text/html": [
              "\n",
              "  <div id=\"df-90d72b49-ae64-4ee9-8082-2019e89aae81\">\n",
              "    <div class=\"colab-df-container\">\n",
              "      <div>\n",
              "<style scoped>\n",
              "    .dataframe tbody tr th:only-of-type {\n",
              "        vertical-align: middle;\n",
              "    }\n",
              "\n",
              "    .dataframe tbody tr th {\n",
              "        vertical-align: top;\n",
              "    }\n",
              "\n",
              "    .dataframe thead th {\n",
              "        text-align: right;\n",
              "    }\n",
              "</style>\n",
              "<table border=\"1\" class=\"dataframe\">\n",
              "  <thead>\n",
              "    <tr style=\"text-align: right;\">\n",
              "      <th></th>\n",
              "      <th>Unnamed: 0</th>\n",
              "      <th>SMILES string</th>\n",
              "      <th>Homo-lumo band gap</th>\n",
              "      <th>Enthalpy</th>\n",
              "      <th>Specific Heat</th>\n",
              "    </tr>\n",
              "  </thead>\n",
              "  <tbody>\n",
              "    <tr>\n",
              "      <th>0</th>\n",
              "      <td>0</td>\n",
              "      <td>C</td>\n",
              "      <td>0.5048</td>\n",
              "      <td>-40.475117</td>\n",
              "      <td>6.469</td>\n",
              "    </tr>\n",
              "    <tr>\n",
              "      <th>1</th>\n",
              "      <td>1</td>\n",
              "      <td>N</td>\n",
              "      <td>0.3399</td>\n",
              "      <td>-56.522082</td>\n",
              "      <td>6.316</td>\n",
              "    </tr>\n",
              "    <tr>\n",
              "      <th>2</th>\n",
              "      <td>2</td>\n",
              "      <td>O</td>\n",
              "      <td>0.3615</td>\n",
              "      <td>-76.400922</td>\n",
              "      <td>6.002</td>\n",
              "    </tr>\n",
              "    <tr>\n",
              "      <th>3</th>\n",
              "      <td>3</td>\n",
              "      <td>C#C</td>\n",
              "      <td>0.3351</td>\n",
              "      <td>-77.304583</td>\n",
              "      <td>8.574</td>\n",
              "    </tr>\n",
              "    <tr>\n",
              "      <th>4</th>\n",
              "      <td>4</td>\n",
              "      <td>C#N</td>\n",
              "      <td>0.3796</td>\n",
              "      <td>-93.408425</td>\n",
              "      <td>6.278</td>\n",
              "    </tr>\n",
              "  </tbody>\n",
              "</table>\n",
              "</div>\n",
              "      <button class=\"colab-df-convert\" onclick=\"convertToInteractive('df-90d72b49-ae64-4ee9-8082-2019e89aae81')\"\n",
              "              title=\"Convert this dataframe to an interactive table.\"\n",
              "              style=\"display:none;\">\n",
              "        \n",
              "  <svg xmlns=\"http://www.w3.org/2000/svg\" height=\"24px\"viewBox=\"0 0 24 24\"\n",
              "       width=\"24px\">\n",
              "    <path d=\"M0 0h24v24H0V0z\" fill=\"none\"/>\n",
              "    <path d=\"M18.56 5.44l.94 2.06.94-2.06 2.06-.94-2.06-.94-.94-2.06-.94 2.06-2.06.94zm-11 1L8.5 8.5l.94-2.06 2.06-.94-2.06-.94L8.5 2.5l-.94 2.06-2.06.94zm10 10l.94 2.06.94-2.06 2.06-.94-2.06-.94-.94-2.06-.94 2.06-2.06.94z\"/><path d=\"M17.41 7.96l-1.37-1.37c-.4-.4-.92-.59-1.43-.59-.52 0-1.04.2-1.43.59L10.3 9.45l-7.72 7.72c-.78.78-.78 2.05 0 2.83L4 21.41c.39.39.9.59 1.41.59.51 0 1.02-.2 1.41-.59l7.78-7.78 2.81-2.81c.8-.78.8-2.07 0-2.86zM5.41 20L4 18.59l7.72-7.72 1.47 1.35L5.41 20z\"/>\n",
              "  </svg>\n",
              "      </button>\n",
              "      \n",
              "  <style>\n",
              "    .colab-df-container {\n",
              "      display:flex;\n",
              "      flex-wrap:wrap;\n",
              "      gap: 12px;\n",
              "    }\n",
              "\n",
              "    .colab-df-convert {\n",
              "      background-color: #E8F0FE;\n",
              "      border: none;\n",
              "      border-radius: 50%;\n",
              "      cursor: pointer;\n",
              "      display: none;\n",
              "      fill: #1967D2;\n",
              "      height: 32px;\n",
              "      padding: 0 0 0 0;\n",
              "      width: 32px;\n",
              "    }\n",
              "\n",
              "    .colab-df-convert:hover {\n",
              "      background-color: #E2EBFA;\n",
              "      box-shadow: 0px 1px 2px rgba(60, 64, 67, 0.3), 0px 1px 3px 1px rgba(60, 64, 67, 0.15);\n",
              "      fill: #174EA6;\n",
              "    }\n",
              "\n",
              "    [theme=dark] .colab-df-convert {\n",
              "      background-color: #3B4455;\n",
              "      fill: #D2E3FC;\n",
              "    }\n",
              "\n",
              "    [theme=dark] .colab-df-convert:hover {\n",
              "      background-color: #434B5C;\n",
              "      box-shadow: 0px 1px 3px 1px rgba(0, 0, 0, 0.15);\n",
              "      filter: drop-shadow(0px 1px 2px rgba(0, 0, 0, 0.3));\n",
              "      fill: #FFFFFF;\n",
              "    }\n",
              "  </style>\n",
              "\n",
              "      <script>\n",
              "        const buttonEl =\n",
              "          document.querySelector('#df-90d72b49-ae64-4ee9-8082-2019e89aae81 button.colab-df-convert');\n",
              "        buttonEl.style.display =\n",
              "          google.colab.kernel.accessAllowed ? 'block' : 'none';\n",
              "\n",
              "        async function convertToInteractive(key) {\n",
              "          const element = document.querySelector('#df-90d72b49-ae64-4ee9-8082-2019e89aae81');\n",
              "          const dataTable =\n",
              "            await google.colab.kernel.invokeFunction('convertToInteractive',\n",
              "                                                     [key], {});\n",
              "          if (!dataTable) return;\n",
              "\n",
              "          const docLinkHtml = 'Like what you see? Visit the ' +\n",
              "            '<a target=\"_blank\" href=https://colab.research.google.com/notebooks/data_table.ipynb>data table notebook</a>'\n",
              "            + ' to learn more about interactive tables.';\n",
              "          element.innerHTML = '';\n",
              "          dataTable['output_type'] = 'display_data';\n",
              "          await google.colab.output.renderOutput(dataTable, element);\n",
              "          const docLink = document.createElement('div');\n",
              "          docLink.innerHTML = docLinkHtml;\n",
              "          element.appendChild(docLink);\n",
              "        }\n",
              "      </script>\n",
              "    </div>\n",
              "  </div>\n",
              "  "
            ]
          },
          "metadata": {},
          "execution_count": 5
        }
      ]
    },
    {
      "cell_type": "code",
      "source": [
        "data_df.drop(columns = ['Unnamed: 0'], inplace=True)"
      ],
      "metadata": {
        "id": "WYsoDTTaUUYB"
      },
      "execution_count": null,
      "outputs": []
    },
    {
      "cell_type": "code",
      "source": [
        "columns = ['SMILES', 'Hf', 'Enthalpy', 'Cp']\n",
        "data_df.columns = columns"
      ],
      "metadata": {
        "id": "30N1PWKxUgw_"
      },
      "execution_count": null,
      "outputs": []
    },
    {
      "cell_type": "code",
      "source": [
        "data_df.head()"
      ],
      "metadata": {
        "colab": {
          "base_uri": "https://localhost:8080/",
          "height": 206
        },
        "id": "2l7BQDlIUguw",
        "outputId": "6978793f-6ce7-4ea6-d84b-76d9c060855f"
      },
      "execution_count": null,
      "outputs": [
        {
          "output_type": "execute_result",
          "data": {
            "text/plain": [
              "  SMILES      Hf   Enthalpy     Cp\n",
              "0      C  0.5048 -40.475117  6.469\n",
              "1      N  0.3399 -56.522082  6.316\n",
              "2      O  0.3615 -76.400922  6.002\n",
              "3    C#C  0.3351 -77.304583  8.574\n",
              "4    C#N  0.3796 -93.408425  6.278"
            ],
            "text/html": [
              "\n",
              "  <div id=\"df-d98e736a-d193-4971-89ba-b655fbdef29f\">\n",
              "    <div class=\"colab-df-container\">\n",
              "      <div>\n",
              "<style scoped>\n",
              "    .dataframe tbody tr th:only-of-type {\n",
              "        vertical-align: middle;\n",
              "    }\n",
              "\n",
              "    .dataframe tbody tr th {\n",
              "        vertical-align: top;\n",
              "    }\n",
              "\n",
              "    .dataframe thead th {\n",
              "        text-align: right;\n",
              "    }\n",
              "</style>\n",
              "<table border=\"1\" class=\"dataframe\">\n",
              "  <thead>\n",
              "    <tr style=\"text-align: right;\">\n",
              "      <th></th>\n",
              "      <th>SMILES</th>\n",
              "      <th>Hf</th>\n",
              "      <th>Enthalpy</th>\n",
              "      <th>Cp</th>\n",
              "    </tr>\n",
              "  </thead>\n",
              "  <tbody>\n",
              "    <tr>\n",
              "      <th>0</th>\n",
              "      <td>C</td>\n",
              "      <td>0.5048</td>\n",
              "      <td>-40.475117</td>\n",
              "      <td>6.469</td>\n",
              "    </tr>\n",
              "    <tr>\n",
              "      <th>1</th>\n",
              "      <td>N</td>\n",
              "      <td>0.3399</td>\n",
              "      <td>-56.522082</td>\n",
              "      <td>6.316</td>\n",
              "    </tr>\n",
              "    <tr>\n",
              "      <th>2</th>\n",
              "      <td>O</td>\n",
              "      <td>0.3615</td>\n",
              "      <td>-76.400922</td>\n",
              "      <td>6.002</td>\n",
              "    </tr>\n",
              "    <tr>\n",
              "      <th>3</th>\n",
              "      <td>C#C</td>\n",
              "      <td>0.3351</td>\n",
              "      <td>-77.304583</td>\n",
              "      <td>8.574</td>\n",
              "    </tr>\n",
              "    <tr>\n",
              "      <th>4</th>\n",
              "      <td>C#N</td>\n",
              "      <td>0.3796</td>\n",
              "      <td>-93.408425</td>\n",
              "      <td>6.278</td>\n",
              "    </tr>\n",
              "  </tbody>\n",
              "</table>\n",
              "</div>\n",
              "      <button class=\"colab-df-convert\" onclick=\"convertToInteractive('df-d98e736a-d193-4971-89ba-b655fbdef29f')\"\n",
              "              title=\"Convert this dataframe to an interactive table.\"\n",
              "              style=\"display:none;\">\n",
              "        \n",
              "  <svg xmlns=\"http://www.w3.org/2000/svg\" height=\"24px\"viewBox=\"0 0 24 24\"\n",
              "       width=\"24px\">\n",
              "    <path d=\"M0 0h24v24H0V0z\" fill=\"none\"/>\n",
              "    <path d=\"M18.56 5.44l.94 2.06.94-2.06 2.06-.94-2.06-.94-.94-2.06-.94 2.06-2.06.94zm-11 1L8.5 8.5l.94-2.06 2.06-.94-2.06-.94L8.5 2.5l-.94 2.06-2.06.94zm10 10l.94 2.06.94-2.06 2.06-.94-2.06-.94-.94-2.06-.94 2.06-2.06.94z\"/><path d=\"M17.41 7.96l-1.37-1.37c-.4-.4-.92-.59-1.43-.59-.52 0-1.04.2-1.43.59L10.3 9.45l-7.72 7.72c-.78.78-.78 2.05 0 2.83L4 21.41c.39.39.9.59 1.41.59.51 0 1.02-.2 1.41-.59l7.78-7.78 2.81-2.81c.8-.78.8-2.07 0-2.86zM5.41 20L4 18.59l7.72-7.72 1.47 1.35L5.41 20z\"/>\n",
              "  </svg>\n",
              "      </button>\n",
              "      \n",
              "  <style>\n",
              "    .colab-df-container {\n",
              "      display:flex;\n",
              "      flex-wrap:wrap;\n",
              "      gap: 12px;\n",
              "    }\n",
              "\n",
              "    .colab-df-convert {\n",
              "      background-color: #E8F0FE;\n",
              "      border: none;\n",
              "      border-radius: 50%;\n",
              "      cursor: pointer;\n",
              "      display: none;\n",
              "      fill: #1967D2;\n",
              "      height: 32px;\n",
              "      padding: 0 0 0 0;\n",
              "      width: 32px;\n",
              "    }\n",
              "\n",
              "    .colab-df-convert:hover {\n",
              "      background-color: #E2EBFA;\n",
              "      box-shadow: 0px 1px 2px rgba(60, 64, 67, 0.3), 0px 1px 3px 1px rgba(60, 64, 67, 0.15);\n",
              "      fill: #174EA6;\n",
              "    }\n",
              "\n",
              "    [theme=dark] .colab-df-convert {\n",
              "      background-color: #3B4455;\n",
              "      fill: #D2E3FC;\n",
              "    }\n",
              "\n",
              "    [theme=dark] .colab-df-convert:hover {\n",
              "      background-color: #434B5C;\n",
              "      box-shadow: 0px 1px 3px 1px rgba(0, 0, 0, 0.15);\n",
              "      filter: drop-shadow(0px 1px 2px rgba(0, 0, 0, 0.3));\n",
              "      fill: #FFFFFF;\n",
              "    }\n",
              "  </style>\n",
              "\n",
              "      <script>\n",
              "        const buttonEl =\n",
              "          document.querySelector('#df-d98e736a-d193-4971-89ba-b655fbdef29f button.colab-df-convert');\n",
              "        buttonEl.style.display =\n",
              "          google.colab.kernel.accessAllowed ? 'block' : 'none';\n",
              "\n",
              "        async function convertToInteractive(key) {\n",
              "          const element = document.querySelector('#df-d98e736a-d193-4971-89ba-b655fbdef29f');\n",
              "          const dataTable =\n",
              "            await google.colab.kernel.invokeFunction('convertToInteractive',\n",
              "                                                     [key], {});\n",
              "          if (!dataTable) return;\n",
              "\n",
              "          const docLinkHtml = 'Like what you see? Visit the ' +\n",
              "            '<a target=\"_blank\" href=https://colab.research.google.com/notebooks/data_table.ipynb>data table notebook</a>'\n",
              "            + ' to learn more about interactive tables.';\n",
              "          element.innerHTML = '';\n",
              "          dataTable['output_type'] = 'display_data';\n",
              "          await google.colab.output.renderOutput(dataTable, element);\n",
              "          const docLink = document.createElement('div');\n",
              "          docLink.innerHTML = docLinkHtml;\n",
              "          element.appendChild(docLink);\n",
              "        }\n",
              "      </script>\n",
              "    </div>\n",
              "  </div>\n",
              "  "
            ]
          },
          "metadata": {},
          "execution_count": 8
        }
      ]
    },
    {
      "cell_type": "markdown",
      "source": [
        "To extract structural fingerprints from SMILES (Simplified Molecular Input Line Entry System) of a molecule, you can use the RDKit library in Python. RDKit is an open-source software development kit for cheminformatics and provides a wide range of functions for working with molecular data.  \n",
        "In the below code, we first define a SMILES string for the molecule of interest. We then use the Chem.MolFromSmiles() function to convert the SMILES string to a molecule object. Next, we generate a Morgan fingerprint using the AllChem.GetMorganFingerprintAsBitVect() function, which takes the molecule object and two parameters: radius, which defines the radius of the fingerprint and nBits, which defines the length of the fingerprint.\n",
        "\n",
        "Finally, we convert the fingerprint to a numpy array using the ToBitString() function and print the resulting array."
      ],
      "metadata": {
        "id": "XEWnQM2XVsci"
      }
    },
    {
      "cell_type": "code",
      "source": [
        "# Convert SMILES to fingerprints\n",
        "data_df['mol'] = data_df['SMILES'].apply(Chem.MolFromSmiles)\n",
        "\n",
        "radius = 3\n",
        "nBits = 1024\n",
        "fps = [AllChem.GetMorganFingerprintAsBitVect(x,radius=radius, nBits=nBits) for x in data_df['mol']]\n",
        "# data_df['fps'] = data_df['mol'].apply(lambda x: AllChem.GetMorganFingerprintAsBitVect(x, radius=2, nBits=1024))\n",
        "# # converting the fingerprint to numpy array\n",
        "# fp_array = np.zeros((0,), dtype=np.int8)\n",
        "# data_df['fps'] = data_df['fps'].apply(lambda x: x.ToBitString(fp_array))"
      ],
      "metadata": {
        "id": "gDyW0HsCU93R"
      },
      "execution_count": null,
      "outputs": []
    },
    {
      "cell_type": "markdown",
      "source": [
        "Adding the fingerprints in the dataframe, by saving each bit to one column"
      ],
      "metadata": {
        "id": "lAC8kRxLaSB1"
      }
    },
    {
      "cell_type": "code",
      "source": [
        "fp_name = [f'Bit_{i}' for i in range(nBits)]\n",
        "fp_bits = [list(l) for l in fps]\n",
        "df_morgan = pd.DataFrame(fp_bits, columns=fp_name)"
      ],
      "metadata": {
        "id": "M2uA36C0U91J"
      },
      "execution_count": null,
      "outputs": []
    },
    {
      "cell_type": "code",
      "source": [
        "combined_df = pd.concat([data_df[['Hf', 'Enthalpy', 'Cp']], df_morgan], axis=1)"
      ],
      "metadata": {
        "id": "TWsobUrkbniq"
      },
      "execution_count": null,
      "outputs": []
    },
    {
      "cell_type": "code",
      "source": [
        "combined_df.head()"
      ],
      "metadata": {
        "colab": {
          "base_uri": "https://localhost:8080/",
          "height": 299
        },
        "id": "7yAiVIiMb5Ne",
        "outputId": "219fc067-f6fc-480c-a3eb-467ee62b3824"
      },
      "execution_count": null,
      "outputs": [
        {
          "output_type": "execute_result",
          "data": {
            "text/plain": [
              "       Hf   Enthalpy     Cp  Bit_0  Bit_1  Bit_2  Bit_3  Bit_4  Bit_5  Bit_6  \\\n",
              "0  0.5048 -40.475117  6.469      0      0      0      0      0      0      0   \n",
              "1  0.3399 -56.522082  6.316      0      0      0      0      0      0      0   \n",
              "2  0.3615 -76.400922  6.002      0      0      0      0      0      0      0   \n",
              "3  0.3351 -77.304583  8.574      0      0      0      0      0      0      0   \n",
              "4  0.3796 -93.408425  6.278      0      0      0      0      0      0      0   \n",
              "\n",
              "   ...  Bit_1014  Bit_1015  Bit_1016  Bit_1017  Bit_1018  Bit_1019  Bit_1020  \\\n",
              "0  ...         0         0         0         0         0         0         0   \n",
              "1  ...         0         0         0         0         0         0         0   \n",
              "2  ...         0         0         0         0         0         0         0   \n",
              "3  ...         0         0         0         0         0         0         0   \n",
              "4  ...         0         0         0         0         0         0         0   \n",
              "\n",
              "   Bit_1021  Bit_1022  Bit_1023  \n",
              "0         0         0         0  \n",
              "1         0         0         0  \n",
              "2         0         0         0  \n",
              "3         0         0         0  \n",
              "4         0         0         0  \n",
              "\n",
              "[5 rows x 1027 columns]"
            ],
            "text/html": [
              "\n",
              "  <div id=\"df-4208568d-ebe4-4b36-967f-12cb29119398\">\n",
              "    <div class=\"colab-df-container\">\n",
              "      <div>\n",
              "<style scoped>\n",
              "    .dataframe tbody tr th:only-of-type {\n",
              "        vertical-align: middle;\n",
              "    }\n",
              "\n",
              "    .dataframe tbody tr th {\n",
              "        vertical-align: top;\n",
              "    }\n",
              "\n",
              "    .dataframe thead th {\n",
              "        text-align: right;\n",
              "    }\n",
              "</style>\n",
              "<table border=\"1\" class=\"dataframe\">\n",
              "  <thead>\n",
              "    <tr style=\"text-align: right;\">\n",
              "      <th></th>\n",
              "      <th>Hf</th>\n",
              "      <th>Enthalpy</th>\n",
              "      <th>Cp</th>\n",
              "      <th>Bit_0</th>\n",
              "      <th>Bit_1</th>\n",
              "      <th>Bit_2</th>\n",
              "      <th>Bit_3</th>\n",
              "      <th>Bit_4</th>\n",
              "      <th>Bit_5</th>\n",
              "      <th>Bit_6</th>\n",
              "      <th>...</th>\n",
              "      <th>Bit_1014</th>\n",
              "      <th>Bit_1015</th>\n",
              "      <th>Bit_1016</th>\n",
              "      <th>Bit_1017</th>\n",
              "      <th>Bit_1018</th>\n",
              "      <th>Bit_1019</th>\n",
              "      <th>Bit_1020</th>\n",
              "      <th>Bit_1021</th>\n",
              "      <th>Bit_1022</th>\n",
              "      <th>Bit_1023</th>\n",
              "    </tr>\n",
              "  </thead>\n",
              "  <tbody>\n",
              "    <tr>\n",
              "      <th>0</th>\n",
              "      <td>0.5048</td>\n",
              "      <td>-40.475117</td>\n",
              "      <td>6.469</td>\n",
              "      <td>0</td>\n",
              "      <td>0</td>\n",
              "      <td>0</td>\n",
              "      <td>0</td>\n",
              "      <td>0</td>\n",
              "      <td>0</td>\n",
              "      <td>0</td>\n",
              "      <td>...</td>\n",
              "      <td>0</td>\n",
              "      <td>0</td>\n",
              "      <td>0</td>\n",
              "      <td>0</td>\n",
              "      <td>0</td>\n",
              "      <td>0</td>\n",
              "      <td>0</td>\n",
              "      <td>0</td>\n",
              "      <td>0</td>\n",
              "      <td>0</td>\n",
              "    </tr>\n",
              "    <tr>\n",
              "      <th>1</th>\n",
              "      <td>0.3399</td>\n",
              "      <td>-56.522082</td>\n",
              "      <td>6.316</td>\n",
              "      <td>0</td>\n",
              "      <td>0</td>\n",
              "      <td>0</td>\n",
              "      <td>0</td>\n",
              "      <td>0</td>\n",
              "      <td>0</td>\n",
              "      <td>0</td>\n",
              "      <td>...</td>\n",
              "      <td>0</td>\n",
              "      <td>0</td>\n",
              "      <td>0</td>\n",
              "      <td>0</td>\n",
              "      <td>0</td>\n",
              "      <td>0</td>\n",
              "      <td>0</td>\n",
              "      <td>0</td>\n",
              "      <td>0</td>\n",
              "      <td>0</td>\n",
              "    </tr>\n",
              "    <tr>\n",
              "      <th>2</th>\n",
              "      <td>0.3615</td>\n",
              "      <td>-76.400922</td>\n",
              "      <td>6.002</td>\n",
              "      <td>0</td>\n",
              "      <td>0</td>\n",
              "      <td>0</td>\n",
              "      <td>0</td>\n",
              "      <td>0</td>\n",
              "      <td>0</td>\n",
              "      <td>0</td>\n",
              "      <td>...</td>\n",
              "      <td>0</td>\n",
              "      <td>0</td>\n",
              "      <td>0</td>\n",
              "      <td>0</td>\n",
              "      <td>0</td>\n",
              "      <td>0</td>\n",
              "      <td>0</td>\n",
              "      <td>0</td>\n",
              "      <td>0</td>\n",
              "      <td>0</td>\n",
              "    </tr>\n",
              "    <tr>\n",
              "      <th>3</th>\n",
              "      <td>0.3351</td>\n",
              "      <td>-77.304583</td>\n",
              "      <td>8.574</td>\n",
              "      <td>0</td>\n",
              "      <td>0</td>\n",
              "      <td>0</td>\n",
              "      <td>0</td>\n",
              "      <td>0</td>\n",
              "      <td>0</td>\n",
              "      <td>0</td>\n",
              "      <td>...</td>\n",
              "      <td>0</td>\n",
              "      <td>0</td>\n",
              "      <td>0</td>\n",
              "      <td>0</td>\n",
              "      <td>0</td>\n",
              "      <td>0</td>\n",
              "      <td>0</td>\n",
              "      <td>0</td>\n",
              "      <td>0</td>\n",
              "      <td>0</td>\n",
              "    </tr>\n",
              "    <tr>\n",
              "      <th>4</th>\n",
              "      <td>0.3796</td>\n",
              "      <td>-93.408425</td>\n",
              "      <td>6.278</td>\n",
              "      <td>0</td>\n",
              "      <td>0</td>\n",
              "      <td>0</td>\n",
              "      <td>0</td>\n",
              "      <td>0</td>\n",
              "      <td>0</td>\n",
              "      <td>0</td>\n",
              "      <td>...</td>\n",
              "      <td>0</td>\n",
              "      <td>0</td>\n",
              "      <td>0</td>\n",
              "      <td>0</td>\n",
              "      <td>0</td>\n",
              "      <td>0</td>\n",
              "      <td>0</td>\n",
              "      <td>0</td>\n",
              "      <td>0</td>\n",
              "      <td>0</td>\n",
              "    </tr>\n",
              "  </tbody>\n",
              "</table>\n",
              "<p>5 rows × 1027 columns</p>\n",
              "</div>\n",
              "      <button class=\"colab-df-convert\" onclick=\"convertToInteractive('df-4208568d-ebe4-4b36-967f-12cb29119398')\"\n",
              "              title=\"Convert this dataframe to an interactive table.\"\n",
              "              style=\"display:none;\">\n",
              "        \n",
              "  <svg xmlns=\"http://www.w3.org/2000/svg\" height=\"24px\"viewBox=\"0 0 24 24\"\n",
              "       width=\"24px\">\n",
              "    <path d=\"M0 0h24v24H0V0z\" fill=\"none\"/>\n",
              "    <path d=\"M18.56 5.44l.94 2.06.94-2.06 2.06-.94-2.06-.94-.94-2.06-.94 2.06-2.06.94zm-11 1L8.5 8.5l.94-2.06 2.06-.94-2.06-.94L8.5 2.5l-.94 2.06-2.06.94zm10 10l.94 2.06.94-2.06 2.06-.94-2.06-.94-.94-2.06-.94 2.06-2.06.94z\"/><path d=\"M17.41 7.96l-1.37-1.37c-.4-.4-.92-.59-1.43-.59-.52 0-1.04.2-1.43.59L10.3 9.45l-7.72 7.72c-.78.78-.78 2.05 0 2.83L4 21.41c.39.39.9.59 1.41.59.51 0 1.02-.2 1.41-.59l7.78-7.78 2.81-2.81c.8-.78.8-2.07 0-2.86zM5.41 20L4 18.59l7.72-7.72 1.47 1.35L5.41 20z\"/>\n",
              "  </svg>\n",
              "      </button>\n",
              "      \n",
              "  <style>\n",
              "    .colab-df-container {\n",
              "      display:flex;\n",
              "      flex-wrap:wrap;\n",
              "      gap: 12px;\n",
              "    }\n",
              "\n",
              "    .colab-df-convert {\n",
              "      background-color: #E8F0FE;\n",
              "      border: none;\n",
              "      border-radius: 50%;\n",
              "      cursor: pointer;\n",
              "      display: none;\n",
              "      fill: #1967D2;\n",
              "      height: 32px;\n",
              "      padding: 0 0 0 0;\n",
              "      width: 32px;\n",
              "    }\n",
              "\n",
              "    .colab-df-convert:hover {\n",
              "      background-color: #E2EBFA;\n",
              "      box-shadow: 0px 1px 2px rgba(60, 64, 67, 0.3), 0px 1px 3px 1px rgba(60, 64, 67, 0.15);\n",
              "      fill: #174EA6;\n",
              "    }\n",
              "\n",
              "    [theme=dark] .colab-df-convert {\n",
              "      background-color: #3B4455;\n",
              "      fill: #D2E3FC;\n",
              "    }\n",
              "\n",
              "    [theme=dark] .colab-df-convert:hover {\n",
              "      background-color: #434B5C;\n",
              "      box-shadow: 0px 1px 3px 1px rgba(0, 0, 0, 0.15);\n",
              "      filter: drop-shadow(0px 1px 2px rgba(0, 0, 0, 0.3));\n",
              "      fill: #FFFFFF;\n",
              "    }\n",
              "  </style>\n",
              "\n",
              "      <script>\n",
              "        const buttonEl =\n",
              "          document.querySelector('#df-4208568d-ebe4-4b36-967f-12cb29119398 button.colab-df-convert');\n",
              "        buttonEl.style.display =\n",
              "          google.colab.kernel.accessAllowed ? 'block' : 'none';\n",
              "\n",
              "        async function convertToInteractive(key) {\n",
              "          const element = document.querySelector('#df-4208568d-ebe4-4b36-967f-12cb29119398');\n",
              "          const dataTable =\n",
              "            await google.colab.kernel.invokeFunction('convertToInteractive',\n",
              "                                                     [key], {});\n",
              "          if (!dataTable) return;\n",
              "\n",
              "          const docLinkHtml = 'Like what you see? Visit the ' +\n",
              "            '<a target=\"_blank\" href=https://colab.research.google.com/notebooks/data_table.ipynb>data table notebook</a>'\n",
              "            + ' to learn more about interactive tables.';\n",
              "          element.innerHTML = '';\n",
              "          dataTable['output_type'] = 'display_data';\n",
              "          await google.colab.output.renderOutput(dataTable, element);\n",
              "          const docLink = document.createElement('div');\n",
              "          docLink.innerHTML = docLinkHtml;\n",
              "          element.appendChild(docLink);\n",
              "        }\n",
              "      </script>\n",
              "    </div>\n",
              "  </div>\n",
              "  "
            ]
          },
          "metadata": {},
          "execution_count": 12
        }
      ]
    },
    {
      "cell_type": "code",
      "source": [
        "combined_df.info()"
      ],
      "metadata": {
        "colab": {
          "base_uri": "https://localhost:8080/"
        },
        "id": "jAfOt_3Xb7vG",
        "outputId": "440ec15d-73ad-455c-b21e-3639daad7acf"
      },
      "execution_count": null,
      "outputs": [
        {
          "output_type": "stream",
          "name": "stdout",
          "text": [
            "<class 'pandas.core.frame.DataFrame'>\n",
            "RangeIndex: 50371 entries, 0 to 50370\n",
            "Columns: 1027 entries, Hf to Bit_1023\n",
            "dtypes: float64(3), int64(1024)\n",
            "memory usage: 394.7 MB\n"
          ]
        }
      ]
    },
    {
      "cell_type": "code",
      "source": [
        "combined_df.describe()"
      ],
      "metadata": {
        "colab": {
          "base_uri": "https://localhost:8080/",
          "height": 393
        },
        "id": "honNZwx7b7ny",
        "outputId": "6a830812-f003-45f9-eb68-a6000eaa2629"
      },
      "execution_count": null,
      "outputs": [
        {
          "output_type": "execute_result",
          "data": {
            "text/plain": [
              "                 Hf      Enthalpy            Cp         Bit_0         Bit_1  \\\n",
              "count  50371.000000  50371.000000  50371.000000  50371.000000  50371.000000   \n",
              "mean       0.243557   -394.494786     28.928091      0.007723      0.075023   \n",
              "std        0.048050     43.399019      3.504536      0.087540      0.263432   \n",
              "min        0.037600   -675.257561      6.002000      0.000000      0.000000   \n",
              "25%        0.210000   -421.814718     26.838500      0.000000      0.000000   \n",
              "50%        0.237900   -399.749890     28.956000      0.000000      0.000000   \n",
              "75%        0.277200   -364.802696     31.077000      0.000000      0.000000   \n",
              "max        0.622100    -40.475117     42.733000      1.000000      1.000000   \n",
              "\n",
              "              Bit_2         Bit_3         Bit_4         Bit_5         Bit_6  \\\n",
              "count  50371.000000  50371.000000  50371.000000  50371.000000  50371.000000   \n",
              "mean       0.013202      0.013262      0.051796      0.037442      0.007802   \n",
              "std        0.114140      0.114394      0.221616      0.189845      0.087985   \n",
              "min        0.000000      0.000000      0.000000      0.000000      0.000000   \n",
              "25%        0.000000      0.000000      0.000000      0.000000      0.000000   \n",
              "50%        0.000000      0.000000      0.000000      0.000000      0.000000   \n",
              "75%        0.000000      0.000000      0.000000      0.000000      0.000000   \n",
              "max        1.000000      1.000000      1.000000      1.000000      1.000000   \n",
              "\n",
              "       ...      Bit_1014      Bit_1015      Bit_1016      Bit_1017  \\\n",
              "count  ...  50371.000000  50371.000000  50371.000000  50371.000000   \n",
              "mean   ...      0.013182      0.012745      0.018324      0.086677   \n",
              "std    ...      0.114056      0.112175      0.134122      0.281364   \n",
              "min    ...      0.000000      0.000000      0.000000      0.000000   \n",
              "25%    ...      0.000000      0.000000      0.000000      0.000000   \n",
              "50%    ...      0.000000      0.000000      0.000000      0.000000   \n",
              "75%    ...      0.000000      0.000000      0.000000      0.000000   \n",
              "max    ...      1.000000      1.000000      1.000000      1.000000   \n",
              "\n",
              "           Bit_1018      Bit_1019      Bit_1020      Bit_1021      Bit_1022  \\\n",
              "count  50371.000000  50371.000000  50371.000000  50371.000000  50371.000000   \n",
              "mean       0.008457      0.560978      0.016259      0.010045      0.007802   \n",
              "std        0.091574      0.496273      0.126473      0.099723      0.087985   \n",
              "min        0.000000      0.000000      0.000000      0.000000      0.000000   \n",
              "25%        0.000000      0.000000      0.000000      0.000000      0.000000   \n",
              "50%        0.000000      1.000000      0.000000      0.000000      0.000000   \n",
              "75%        0.000000      1.000000      0.000000      0.000000      0.000000   \n",
              "max        1.000000      1.000000      1.000000      1.000000      1.000000   \n",
              "\n",
              "           Bit_1023  \n",
              "count  50371.000000  \n",
              "mean       0.019654  \n",
              "std        0.138810  \n",
              "min        0.000000  \n",
              "25%        0.000000  \n",
              "50%        0.000000  \n",
              "75%        0.000000  \n",
              "max        1.000000  \n",
              "\n",
              "[8 rows x 1027 columns]"
            ],
            "text/html": [
              "\n",
              "  <div id=\"df-b718615b-ea67-4aee-8b37-433b5990cd5d\">\n",
              "    <div class=\"colab-df-container\">\n",
              "      <div>\n",
              "<style scoped>\n",
              "    .dataframe tbody tr th:only-of-type {\n",
              "        vertical-align: middle;\n",
              "    }\n",
              "\n",
              "    .dataframe tbody tr th {\n",
              "        vertical-align: top;\n",
              "    }\n",
              "\n",
              "    .dataframe thead th {\n",
              "        text-align: right;\n",
              "    }\n",
              "</style>\n",
              "<table border=\"1\" class=\"dataframe\">\n",
              "  <thead>\n",
              "    <tr style=\"text-align: right;\">\n",
              "      <th></th>\n",
              "      <th>Hf</th>\n",
              "      <th>Enthalpy</th>\n",
              "      <th>Cp</th>\n",
              "      <th>Bit_0</th>\n",
              "      <th>Bit_1</th>\n",
              "      <th>Bit_2</th>\n",
              "      <th>Bit_3</th>\n",
              "      <th>Bit_4</th>\n",
              "      <th>Bit_5</th>\n",
              "      <th>Bit_6</th>\n",
              "      <th>...</th>\n",
              "      <th>Bit_1014</th>\n",
              "      <th>Bit_1015</th>\n",
              "      <th>Bit_1016</th>\n",
              "      <th>Bit_1017</th>\n",
              "      <th>Bit_1018</th>\n",
              "      <th>Bit_1019</th>\n",
              "      <th>Bit_1020</th>\n",
              "      <th>Bit_1021</th>\n",
              "      <th>Bit_1022</th>\n",
              "      <th>Bit_1023</th>\n",
              "    </tr>\n",
              "  </thead>\n",
              "  <tbody>\n",
              "    <tr>\n",
              "      <th>count</th>\n",
              "      <td>50371.000000</td>\n",
              "      <td>50371.000000</td>\n",
              "      <td>50371.000000</td>\n",
              "      <td>50371.000000</td>\n",
              "      <td>50371.000000</td>\n",
              "      <td>50371.000000</td>\n",
              "      <td>50371.000000</td>\n",
              "      <td>50371.000000</td>\n",
              "      <td>50371.000000</td>\n",
              "      <td>50371.000000</td>\n",
              "      <td>...</td>\n",
              "      <td>50371.000000</td>\n",
              "      <td>50371.000000</td>\n",
              "      <td>50371.000000</td>\n",
              "      <td>50371.000000</td>\n",
              "      <td>50371.000000</td>\n",
              "      <td>50371.000000</td>\n",
              "      <td>50371.000000</td>\n",
              "      <td>50371.000000</td>\n",
              "      <td>50371.000000</td>\n",
              "      <td>50371.000000</td>\n",
              "    </tr>\n",
              "    <tr>\n",
              "      <th>mean</th>\n",
              "      <td>0.243557</td>\n",
              "      <td>-394.494786</td>\n",
              "      <td>28.928091</td>\n",
              "      <td>0.007723</td>\n",
              "      <td>0.075023</td>\n",
              "      <td>0.013202</td>\n",
              "      <td>0.013262</td>\n",
              "      <td>0.051796</td>\n",
              "      <td>0.037442</td>\n",
              "      <td>0.007802</td>\n",
              "      <td>...</td>\n",
              "      <td>0.013182</td>\n",
              "      <td>0.012745</td>\n",
              "      <td>0.018324</td>\n",
              "      <td>0.086677</td>\n",
              "      <td>0.008457</td>\n",
              "      <td>0.560978</td>\n",
              "      <td>0.016259</td>\n",
              "      <td>0.010045</td>\n",
              "      <td>0.007802</td>\n",
              "      <td>0.019654</td>\n",
              "    </tr>\n",
              "    <tr>\n",
              "      <th>std</th>\n",
              "      <td>0.048050</td>\n",
              "      <td>43.399019</td>\n",
              "      <td>3.504536</td>\n",
              "      <td>0.087540</td>\n",
              "      <td>0.263432</td>\n",
              "      <td>0.114140</td>\n",
              "      <td>0.114394</td>\n",
              "      <td>0.221616</td>\n",
              "      <td>0.189845</td>\n",
              "      <td>0.087985</td>\n",
              "      <td>...</td>\n",
              "      <td>0.114056</td>\n",
              "      <td>0.112175</td>\n",
              "      <td>0.134122</td>\n",
              "      <td>0.281364</td>\n",
              "      <td>0.091574</td>\n",
              "      <td>0.496273</td>\n",
              "      <td>0.126473</td>\n",
              "      <td>0.099723</td>\n",
              "      <td>0.087985</td>\n",
              "      <td>0.138810</td>\n",
              "    </tr>\n",
              "    <tr>\n",
              "      <th>min</th>\n",
              "      <td>0.037600</td>\n",
              "      <td>-675.257561</td>\n",
              "      <td>6.002000</td>\n",
              "      <td>0.000000</td>\n",
              "      <td>0.000000</td>\n",
              "      <td>0.000000</td>\n",
              "      <td>0.000000</td>\n",
              "      <td>0.000000</td>\n",
              "      <td>0.000000</td>\n",
              "      <td>0.000000</td>\n",
              "      <td>...</td>\n",
              "      <td>0.000000</td>\n",
              "      <td>0.000000</td>\n",
              "      <td>0.000000</td>\n",
              "      <td>0.000000</td>\n",
              "      <td>0.000000</td>\n",
              "      <td>0.000000</td>\n",
              "      <td>0.000000</td>\n",
              "      <td>0.000000</td>\n",
              "      <td>0.000000</td>\n",
              "      <td>0.000000</td>\n",
              "    </tr>\n",
              "    <tr>\n",
              "      <th>25%</th>\n",
              "      <td>0.210000</td>\n",
              "      <td>-421.814718</td>\n",
              "      <td>26.838500</td>\n",
              "      <td>0.000000</td>\n",
              "      <td>0.000000</td>\n",
              "      <td>0.000000</td>\n",
              "      <td>0.000000</td>\n",
              "      <td>0.000000</td>\n",
              "      <td>0.000000</td>\n",
              "      <td>0.000000</td>\n",
              "      <td>...</td>\n",
              "      <td>0.000000</td>\n",
              "      <td>0.000000</td>\n",
              "      <td>0.000000</td>\n",
              "      <td>0.000000</td>\n",
              "      <td>0.000000</td>\n",
              "      <td>0.000000</td>\n",
              "      <td>0.000000</td>\n",
              "      <td>0.000000</td>\n",
              "      <td>0.000000</td>\n",
              "      <td>0.000000</td>\n",
              "    </tr>\n",
              "    <tr>\n",
              "      <th>50%</th>\n",
              "      <td>0.237900</td>\n",
              "      <td>-399.749890</td>\n",
              "      <td>28.956000</td>\n",
              "      <td>0.000000</td>\n",
              "      <td>0.000000</td>\n",
              "      <td>0.000000</td>\n",
              "      <td>0.000000</td>\n",
              "      <td>0.000000</td>\n",
              "      <td>0.000000</td>\n",
              "      <td>0.000000</td>\n",
              "      <td>...</td>\n",
              "      <td>0.000000</td>\n",
              "      <td>0.000000</td>\n",
              "      <td>0.000000</td>\n",
              "      <td>0.000000</td>\n",
              "      <td>0.000000</td>\n",
              "      <td>1.000000</td>\n",
              "      <td>0.000000</td>\n",
              "      <td>0.000000</td>\n",
              "      <td>0.000000</td>\n",
              "      <td>0.000000</td>\n",
              "    </tr>\n",
              "    <tr>\n",
              "      <th>75%</th>\n",
              "      <td>0.277200</td>\n",
              "      <td>-364.802696</td>\n",
              "      <td>31.077000</td>\n",
              "      <td>0.000000</td>\n",
              "      <td>0.000000</td>\n",
              "      <td>0.000000</td>\n",
              "      <td>0.000000</td>\n",
              "      <td>0.000000</td>\n",
              "      <td>0.000000</td>\n",
              "      <td>0.000000</td>\n",
              "      <td>...</td>\n",
              "      <td>0.000000</td>\n",
              "      <td>0.000000</td>\n",
              "      <td>0.000000</td>\n",
              "      <td>0.000000</td>\n",
              "      <td>0.000000</td>\n",
              "      <td>1.000000</td>\n",
              "      <td>0.000000</td>\n",
              "      <td>0.000000</td>\n",
              "      <td>0.000000</td>\n",
              "      <td>0.000000</td>\n",
              "    </tr>\n",
              "    <tr>\n",
              "      <th>max</th>\n",
              "      <td>0.622100</td>\n",
              "      <td>-40.475117</td>\n",
              "      <td>42.733000</td>\n",
              "      <td>1.000000</td>\n",
              "      <td>1.000000</td>\n",
              "      <td>1.000000</td>\n",
              "      <td>1.000000</td>\n",
              "      <td>1.000000</td>\n",
              "      <td>1.000000</td>\n",
              "      <td>1.000000</td>\n",
              "      <td>...</td>\n",
              "      <td>1.000000</td>\n",
              "      <td>1.000000</td>\n",
              "      <td>1.000000</td>\n",
              "      <td>1.000000</td>\n",
              "      <td>1.000000</td>\n",
              "      <td>1.000000</td>\n",
              "      <td>1.000000</td>\n",
              "      <td>1.000000</td>\n",
              "      <td>1.000000</td>\n",
              "      <td>1.000000</td>\n",
              "    </tr>\n",
              "  </tbody>\n",
              "</table>\n",
              "<p>8 rows × 1027 columns</p>\n",
              "</div>\n",
              "      <button class=\"colab-df-convert\" onclick=\"convertToInteractive('df-b718615b-ea67-4aee-8b37-433b5990cd5d')\"\n",
              "              title=\"Convert this dataframe to an interactive table.\"\n",
              "              style=\"display:none;\">\n",
              "        \n",
              "  <svg xmlns=\"http://www.w3.org/2000/svg\" height=\"24px\"viewBox=\"0 0 24 24\"\n",
              "       width=\"24px\">\n",
              "    <path d=\"M0 0h24v24H0V0z\" fill=\"none\"/>\n",
              "    <path d=\"M18.56 5.44l.94 2.06.94-2.06 2.06-.94-2.06-.94-.94-2.06-.94 2.06-2.06.94zm-11 1L8.5 8.5l.94-2.06 2.06-.94-2.06-.94L8.5 2.5l-.94 2.06-2.06.94zm10 10l.94 2.06.94-2.06 2.06-.94-2.06-.94-.94-2.06-.94 2.06-2.06.94z\"/><path d=\"M17.41 7.96l-1.37-1.37c-.4-.4-.92-.59-1.43-.59-.52 0-1.04.2-1.43.59L10.3 9.45l-7.72 7.72c-.78.78-.78 2.05 0 2.83L4 21.41c.39.39.9.59 1.41.59.51 0 1.02-.2 1.41-.59l7.78-7.78 2.81-2.81c.8-.78.8-2.07 0-2.86zM5.41 20L4 18.59l7.72-7.72 1.47 1.35L5.41 20z\"/>\n",
              "  </svg>\n",
              "      </button>\n",
              "      \n",
              "  <style>\n",
              "    .colab-df-container {\n",
              "      display:flex;\n",
              "      flex-wrap:wrap;\n",
              "      gap: 12px;\n",
              "    }\n",
              "\n",
              "    .colab-df-convert {\n",
              "      background-color: #E8F0FE;\n",
              "      border: none;\n",
              "      border-radius: 50%;\n",
              "      cursor: pointer;\n",
              "      display: none;\n",
              "      fill: #1967D2;\n",
              "      height: 32px;\n",
              "      padding: 0 0 0 0;\n",
              "      width: 32px;\n",
              "    }\n",
              "\n",
              "    .colab-df-convert:hover {\n",
              "      background-color: #E2EBFA;\n",
              "      box-shadow: 0px 1px 2px rgba(60, 64, 67, 0.3), 0px 1px 3px 1px rgba(60, 64, 67, 0.15);\n",
              "      fill: #174EA6;\n",
              "    }\n",
              "\n",
              "    [theme=dark] .colab-df-convert {\n",
              "      background-color: #3B4455;\n",
              "      fill: #D2E3FC;\n",
              "    }\n",
              "\n",
              "    [theme=dark] .colab-df-convert:hover {\n",
              "      background-color: #434B5C;\n",
              "      box-shadow: 0px 1px 3px 1px rgba(0, 0, 0, 0.15);\n",
              "      filter: drop-shadow(0px 1px 2px rgba(0, 0, 0, 0.3));\n",
              "      fill: #FFFFFF;\n",
              "    }\n",
              "  </style>\n",
              "\n",
              "      <script>\n",
              "        const buttonEl =\n",
              "          document.querySelector('#df-b718615b-ea67-4aee-8b37-433b5990cd5d button.colab-df-convert');\n",
              "        buttonEl.style.display =\n",
              "          google.colab.kernel.accessAllowed ? 'block' : 'none';\n",
              "\n",
              "        async function convertToInteractive(key) {\n",
              "          const element = document.querySelector('#df-b718615b-ea67-4aee-8b37-433b5990cd5d');\n",
              "          const dataTable =\n",
              "            await google.colab.kernel.invokeFunction('convertToInteractive',\n",
              "                                                     [key], {});\n",
              "          if (!dataTable) return;\n",
              "\n",
              "          const docLinkHtml = 'Like what you see? Visit the ' +\n",
              "            '<a target=\"_blank\" href=https://colab.research.google.com/notebooks/data_table.ipynb>data table notebook</a>'\n",
              "            + ' to learn more about interactive tables.';\n",
              "          element.innerHTML = '';\n",
              "          dataTable['output_type'] = 'display_data';\n",
              "          await google.colab.output.renderOutput(dataTable, element);\n",
              "          const docLink = document.createElement('div');\n",
              "          docLink.innerHTML = docLinkHtml;\n",
              "          element.appendChild(docLink);\n",
              "        }\n",
              "      </script>\n",
              "    </div>\n",
              "  </div>\n",
              "  "
            ]
          },
          "metadata": {},
          "execution_count": 14
        }
      ]
    },
    {
      "cell_type": "code",
      "source": [
        "# counting the number of NaN values\n",
        "combined_df.isna().sum().sum()"
      ],
      "metadata": {
        "colab": {
          "base_uri": "https://localhost:8080/"
        },
        "id": "4yYwHm_ScShs",
        "outputId": "308ae55b-8df8-40d7-fad6-929299ef3c95"
      },
      "execution_count": null,
      "outputs": [
        {
          "output_type": "execute_result",
          "data": {
            "text/plain": [
              "0"
            ]
          },
          "metadata": {},
          "execution_count": 15
        }
      ]
    },
    {
      "cell_type": "code",
      "source": [
        "# train test testation split\n",
        "train_df, test_df = train_test_split(combined_df, test_size=0.1, random_state=42)\n",
        "\n",
        "train_df, validation_df = train_test_split(train_df, test_size=0.1, random_state=42)\n",
        "\n",
        "train_df.reset_index(drop=True, inplace=True)\n",
        "test_df.reset_index(drop=True, inplace=True)\n",
        "validation_df.reset_index(drop=True, inplace=True)\n",
        "\n",
        "x_train_df, y1_train_df, y2_train_df, y3_train_df = train_df.drop(['Hf', 'Enthalpy', 'Cp'], axis=1).copy(), train_df['Hf'].copy(),  train_df['Enthalpy'].copy(),  train_df['Cp'].copy()\n",
        "x_valid_df, y1_valid_df, y2_valid_df, y3_valid_df = validation_df.drop(['Hf', 'Enthalpy', 'Cp'], axis=1).copy(), validation_df['Hf'].copy(),  validation_df['Enthalpy'].copy(),  validation_df['Cp'].copy()\n",
        "x_test_df, y1_test_df, y2_test_df, y3_test_df = test_df.drop(['Hf', 'Enthalpy', 'Cp'], axis=1).copy(), test_df['Hf'].copy(),  test_df['Enthalpy'].copy(),  test_df['Cp'].copy()"
      ],
      "metadata": {
        "id": "83LpPHMDcSfn"
      },
      "execution_count": null,
      "outputs": []
    },
    {
      "cell_type": "markdown",
      "source": [
        "**Keras model** - **CNN model** Using the morgan fingerprints"
      ],
      "metadata": {
        "id": "Om-0u2nsf9uW"
      }
    },
    {
      "cell_type": "code",
      "source": [
        "# model architecture\n",
        "model = keras.models.Sequential([\n",
        "    Conv1D(filters=64, kernel_size=3, activation='relu', input_shape=(1024, 1)),\n",
        "    MaxPooling1D(pool_size=2),\n",
        "    Dropout(0.25),\n",
        "    Conv1D(filters=64, kernel_size=3, activation='relu'),\n",
        "    MaxPooling1D(pool_size=2),\n",
        "    Dropout(0.25),\n",
        "    Flatten(),\n",
        "    Dense(128, activation='relu'),\n",
        "    Dropout(0.5),\n",
        "    Dense(1),\n",
        "])"
      ],
      "metadata": {
        "id": "exKwPD_Tfe9w"
      },
      "execution_count": null,
      "outputs": []
    },
    {
      "cell_type": "code",
      "source": [
        "model.summary()"
      ],
      "metadata": {
        "colab": {
          "base_uri": "https://localhost:8080/"
        },
        "id": "aSNhv-BLfe70",
        "outputId": "064024cd-fb61-44b1-ebf3-c9f20a1009d2"
      },
      "execution_count": null,
      "outputs": [
        {
          "output_type": "stream",
          "name": "stdout",
          "text": [
            "Model: \"sequential\"\n",
            "_________________________________________________________________\n",
            " Layer (type)                Output Shape              Param #   \n",
            "=================================================================\n",
            " conv1d (Conv1D)             (None, 1022, 64)          256       \n",
            "                                                                 \n",
            " max_pooling1d (MaxPooling1D  (None, 511, 64)          0         \n",
            " )                                                               \n",
            "                                                                 \n",
            " dropout (Dropout)           (None, 511, 64)           0         \n",
            "                                                                 \n",
            " conv1d_1 (Conv1D)           (None, 509, 64)           12352     \n",
            "                                                                 \n",
            " max_pooling1d_1 (MaxPooling  (None, 254, 64)          0         \n",
            " 1D)                                                             \n",
            "                                                                 \n",
            " dropout_1 (Dropout)         (None, 254, 64)           0         \n",
            "                                                                 \n",
            " flatten (Flatten)           (None, 16256)             0         \n",
            "                                                                 \n",
            " dense (Dense)               (None, 128)               2080896   \n",
            "                                                                 \n",
            " dropout_2 (Dropout)         (None, 128)               0         \n",
            "                                                                 \n",
            " dense_1 (Dense)             (None, 1)                 129       \n",
            "                                                                 \n",
            "=================================================================\n",
            "Total params: 2,093,633\n",
            "Trainable params: 2,093,633\n",
            "Non-trainable params: 0\n",
            "_________________________________________________________________\n"
          ]
        }
      ]
    },
    {
      "cell_type": "code",
      "source": [
        "# Compile the model with Mean Squared Error (MSE) loss and Adam optimizer\n",
        "model.compile(loss='mse', optimizer=keras.optimizers.Adam(lr=0.01))\n"
      ],
      "metadata": {
        "colab": {
          "base_uri": "https://localhost:8080/"
        },
        "id": "QatbmSdNijFF",
        "outputId": "210706b8-80b7-4459-8e93-ea99323fe427"
      },
      "execution_count": null,
      "outputs": [
        {
          "output_type": "stream",
          "name": "stderr",
          "text": [
            "WARNING:absl:`lr` is deprecated in Keras optimizer, please use `learning_rate` or use the legacy optimizer, e.g.,tf.keras.optimizers.legacy.Adam.\n"
          ]
        }
      ]
    },
    {
      "cell_type": "markdown",
      "source": [
        "**For 'Hg'**"
      ],
      "metadata": {
        "id": "fGr-rXCyjLL-"
      }
    },
    {
      "cell_type": "code",
      "source": [
        "# Fit the model with a batch size of 32 for Hg\n",
        "res1 = model.fit(x_train_df, y1_train_df, epochs=2, validation_data=(x_valid_df, y1_valid_df))"
      ],
      "metadata": {
        "colab": {
          "base_uri": "https://localhost:8080/"
        },
        "id": "a80TWpVKijCM",
        "outputId": "994347b0-017f-4103-93cb-5f1d53562a0c"
      },
      "execution_count": null,
      "outputs": [
        {
          "output_type": "stream",
          "name": "stdout",
          "text": [
            "Epoch 1/2\n",
            "1275/1275 [==============================] - 159s 125ms/step - loss: 7.0479e-04 - val_loss: 5.1210e-04\n",
            "Epoch 2/2\n",
            "1275/1275 [==============================] - 158s 124ms/step - loss: 6.3995e-04 - val_loss: 4.3408e-04\n"
          ]
        }
      ]
    },
    {
      "cell_type": "code",
      "source": [
        "# Evaluate the model\n",
        "loss1 = model.evaluate(x_test_df, y1_test_df)\n",
        "print('Test loss for Hg:', loss1)\n",
        "\n",
        "x_new = x_test_df[:5] # pretend these are new instances\n",
        "y1_pred = model.predict(x_new)\n",
        "# print(np.array(y_test_df[:3]))\n",
        "print(f'Actual values: {np.array(y1_test_df[:5])}; Predicted values: {y1_pred.ravel()}')"
      ],
      "metadata": {
        "colab": {
          "base_uri": "https://localhost:8080/"
        },
        "id": "dRnnq09WZ3Te",
        "outputId": "b4d715de-0f99-4de4-c2b6-53b55351c334"
      },
      "execution_count": null,
      "outputs": [
        {
          "output_type": "stream",
          "name": "stdout",
          "text": [
            "158/158 [==============================] - 5s 30ms/step - loss: 4.4804e-04\n",
            "Test loss for Hg: 0.0004480406641960144\n",
            "1/1 [==============================] - 0s 190ms/step\n",
            "Actual values: [0.2227 0.209  0.1381 0.1866 0.1559]; Predicted values: [0.21147113 0.2232575  0.18880372 0.2234745  0.18435971]\n"
          ]
        }
      ]
    },
    {
      "cell_type": "markdown",
      "source": [
        "**Standard deviation between predicted and actual values - test data**"
      ],
      "metadata": {
        "id": "8OuecPjphs-y"
      }
    },
    {
      "cell_type": "code",
      "source": [
        "# Calculate the standard deviation between predicted and actual values - test data\n",
        "y1_test_pred = model.predict(x_test_df)\n",
        "sd = np.std(y1_test_pred - np.array(y1_test_df))\n",
        "print(f'Standard deviation between actual Tg and predicted Tg in test data = {sd}')"
      ],
      "metadata": {
        "id": "yUsCN99ChdS0",
        "colab": {
          "base_uri": "https://localhost:8080/"
        },
        "outputId": "fe0eb45b-c5f9-48d4-b37b-f0ccf4ef8e56"
      },
      "execution_count": null,
      "outputs": [
        {
          "output_type": "stream",
          "name": "stdout",
          "text": [
            "158/158 [==============================] - 3s 21ms/step\n",
            "Standard deviation between actual Tg and predicted Tg in test data = 0.06151966154691269\n"
          ]
        }
      ]
    },
    {
      "cell_type": "markdown",
      "source": [
        "**Mean difference between predicted and actual values - test data**"
      ],
      "metadata": {
        "id": "RJFqDcHhhuUb"
      }
    },
    {
      "cell_type": "code",
      "source": [
        "# Calculating mean difference between predicted and actual values - test data\n",
        "mean_diff = np.sum(abs(np.subtract(np.array(y1_test_pred).ravel(), np.array(y1_test_df)))) / len(y1_test_pred)\n",
        "print(f'Mean difference between predicted and actual Tg values in test data = {mean_diff}')"
      ],
      "metadata": {
        "id": "6rMsbgQ8hc83",
        "colab": {
          "base_uri": "https://localhost:8080/"
        },
        "outputId": "56d95223-0c29-483f-ee8c-88d46cfb5f9a"
      },
      "execution_count": null,
      "outputs": [
        {
          "output_type": "stream",
          "name": "stdout",
          "text": [
            "Mean difference between predicted and actual Tg values in test data = 0.016187490553167806\n"
          ]
        }
      ]
    },
    {
      "cell_type": "code",
      "source": [
        "pd.DataFrame(res1.history).plot(figsize=(8, 5))\n",
        "plt.grid(True)\n",
        "plt.show()"
      ],
      "metadata": {
        "colab": {
          "base_uri": "https://localhost:8080/",
          "height": 445
        },
        "id": "Wmd0OwEscZI-",
        "outputId": "6f992bff-5eaa-43d9-eebc-4cf23e5379cd"
      },
      "execution_count": null,
      "outputs": [
        {
          "output_type": "display_data",
          "data": {
            "text/plain": [
              "<Figure size 800x500 with 1 Axes>"
            ],
            "image/png": "[encoded data removed]"
          },
          "metadata": {}
        }
      ]
    },
    {
      "cell_type": "markdown",
      "source": [
        "**For 'Enthalpy'**"
      ],
      "metadata": {
        "id": "YnY8g9ROjVG3"
      }
    },
    {
      "cell_type": "code",
      "source": [
        "# Fit the model with a batch size of 32 for Enthalpy\n",
        "res2 = model.fit(x_train_df, y2_train_df, epochs=2, validation_data=(x_valid_df, y2_valid_df))"
      ],
      "metadata": {
        "colab": {
          "base_uri": "https://localhost:8080/"
        },
        "id": "dJp29L02jVou",
        "outputId": "efdf44a8-c25e-4608-c56f-f8911cecdfd1"
      },
      "execution_count": null,
      "outputs": [
        {
          "output_type": "stream",
          "name": "stdout",
          "text": [
            "Epoch 1/2\n",
            "1275/1275 [==============================] - 162s 127ms/step - loss: 41556.0430 - val_loss: 11481.2998\n",
            "Epoch 2/2\n",
            "1275/1275 [==============================] - 159s 125ms/step - loss: 39839.0312 - val_loss: 9730.3291\n"
          ]
        }
      ]
    },
    {
      "cell_type": "code",
      "source": [
        "# Evaluate the model\n",
        "loss2 = model.evaluate(x_test_df, y2_test_df)\n",
        "print('Test loss for Enthalpy:', loss2)"
      ],
      "metadata": {
        "colab": {
          "base_uri": "https://localhost:8080/"
        },
        "id": "Ctwv6dvWaI-5",
        "outputId": "a2deaaf3-6924-479c-9681-0b759e301fe9"
      },
      "execution_count": null,
      "outputs": [
        {
          "output_type": "stream",
          "name": "stdout",
          "text": [
            "158/158 [==============================] - 3s 21ms/step - loss: 9594.9053\n",
            "Test loss for Enthalpy: 9594.9052734375\n"
          ]
        }
      ]
    },
    {
      "cell_type": "markdown",
      "source": [
        "**For 'Cp'**"
      ],
      "metadata": {
        "id": "wBAG5QgFjad_"
      }
    },
    {
      "cell_type": "code",
      "source": [
        "# Fit the model with a batch size of 32 for Cp\n",
        "res3 = model.fit(x_train_df, y3_train_df, epochs=2, validation_data=(x_valid_df, y3_valid_df))"
      ],
      "metadata": {
        "colab": {
          "base_uri": "https://localhost:8080/"
        },
        "id": "P5A34zxNjc--",
        "outputId": "a87da3af-8189-4f1f-daa4-21990942d438"
      },
      "execution_count": null,
      "outputs": [
        {
          "output_type": "stream",
          "name": "stdout",
          "text": [
            "Epoch 1/2\n",
            "1275/1275 [==============================] - 160s 126ms/step - loss: 1646.4153 - val_loss: 994.9358\n",
            "Epoch 2/2\n",
            "1275/1275 [==============================] - 159s 125ms/step - loss: 966.2494 - val_loss: 945.5037\n"
          ]
        }
      ]
    },
    {
      "cell_type": "code",
      "source": [
        "# Evaluate the model\n",
        "loss3 = model.evaluate(x_test_df, y3_test_df)\n",
        "print('Test loss for Cp:', loss3)"
      ],
      "metadata": {
        "colab": {
          "base_uri": "https://localhost:8080/"
        },
        "id": "h-_01UiKaNd6",
        "outputId": "36b866e2-3dd8-4983-86c8-5015540dcb7d"
      },
      "execution_count": null,
      "outputs": [
        {
          "output_type": "stream",
          "name": "stdout",
          "text": [
            "158/158 [==============================] - 4s 25ms/step - loss: 942.9712\n",
            "Test loss for Cp: 942.97119140625\n"
          ]
        }
      ]
    },
    {
      "cell_type": "markdown",
      "source": [
        "First, the dataset is loaded containing the SMILES and the dependent variables namely, 'Hg', 'Enthalpy', and 'Cp'. \n",
        "SMILES of the molecules are converted into morgan fingerprints. The resulting dataframe containing the morgan fingerprints as the features and the dependent variables. The data is split into training and testing sets using train_test_split() function from scikit-learn.\n",
        "\n",
        "Next, we define a convolutional neural network (CNN) model using Keras. The model has two convolutional layers each followed by max pooling layers and dropout layers, then two dense layers with a dropout layer in between. The last layer is a single output layer as we want to predict a single numerical value (each output variable is predicted individually).\n",
        "\n",
        "We compile the model using mean squared error (MSE) loss and the Adam optimizer with a learning rate of 0.01. We then train the model using the fit() function with a batch size of 32 and 50 epochs, and use 10% of the training data for validation. Finally, we evaluate the model on the test set using the evaluate() function and print the test loss.\n",
        "\n",
        "\n"
      ],
      "metadata": {
        "id": "J1E9YxQzYXcD"
      }
    },
    {
      "cell_type": "markdown",
      "source": [
        "The CNN model works well for predicting Formation energy.  \n",
        "Test error for formation energy = 6.11899  \n",
        "However, the test error for  \n",
        " - Enthalpy =  9594.9052   \n",
        " - Specific heat = 942.971     \n",
        "  \n",
        "However we find that the CNN model didn't work well for predicting enthalpy and specific heat.  \n",
        "So, we try XGBoost algorithm to model the prediction of them."
      ],
      "metadata": {
        "id": "xFfpSFZHadzO"
      }
    },
    {
      "cell_type": "markdown",
      "source": [
        "### **For 'enthalpy'**"
      ],
      "metadata": {
        "id": "3sbH9poQbWhw"
      }
    },
    {
      "cell_type": "code",
      "source": [
        "from xgboost import XGBRegressor\n",
        "\n",
        "# Define the model\n",
        "model2 = XGBRegressor(n_estimators=100, max_depth=5, learning_rate=0.1)\n",
        "\n",
        "# Train the model\n",
        "xgb_res2 = model2.fit(x_train_df, y2_train_df)\n",
        "\n",
        "# Evaluate the model\n",
        "score2 = model2.score(x_test_df, y2_test_df)\n",
        "print('Test score for Enthalpy prediction by XGBoost model:', score2)"
      ],
      "metadata": {
        "colab": {
          "base_uri": "https://localhost:8080/"
        },
        "id": "bBnh41yga22w",
        "outputId": "5d2291e5-b3b8-47e9-cdb5-0c1213bde381"
      },
      "execution_count": null,
      "outputs": [
        {
          "output_type": "stream",
          "name": "stdout",
          "text": [
            "Test score for Enthalpy prediction by XGBoost model: 0.6562903006077156\n"
          ]
        }
      ]
    },
    {
      "cell_type": "code",
      "source": [
        "x_new = x_test_df[:5] # pretend these are new instances\n",
        "y2_pred = model2.predict(x_new)\n",
        "# print(np.array(y_test_df[:3]))\n",
        "print(f'Actual values: {np.array(y2_test_df[:5])}; Predicted values: {y2_pred.ravel()}')"
      ],
      "metadata": {
        "colab": {
          "base_uri": "https://localhost:8080/"
        },
        "id": "YOxo9BwJaP4-",
        "outputId": "2a0984b7-f7dc-48c5-e6fa-55c701bf981d"
      },
      "execution_count": null,
      "outputs": [
        {
          "output_type": "stream",
          "name": "stdout",
          "text": [
            "Actual values: [-383.764391 -458.952075 -456.560753 -420.53807  -394.815076]; Predicted values: [-373.50858 -433.95438 -429.9226  -411.8949  -397.7279 ]\n"
          ]
        }
      ]
    },
    {
      "cell_type": "markdown",
      "source": [
        "**Standard deviation between predicted and actual values - test data**"
      ],
      "metadata": {
        "id": "MCLBREj5azEE"
      }
    },
    {
      "cell_type": "code",
      "source": [
        "# Calculate the standard deviation between predicted and actual values - test data\n",
        "y2_test_pred = model2.predict(x_test_df)\n",
        "sd = np.std(y2_test_pred - np.array(y2_test_df))\n",
        "print(f'Standard deviation between actual Enthalpy and predicted Enthalpy in test data = {sd}')"
      ],
      "metadata": {
        "colab": {
          "base_uri": "https://localhost:8080/"
        },
        "id": "NTHrAYhraZLV",
        "outputId": "02d6c0e2-9df3-4fd0-ae09-20fea40583b3"
      },
      "execution_count": null,
      "outputs": [
        {
          "output_type": "stream",
          "name": "stdout",
          "text": [
            "Standard deviation between actual Enthalpy and predicted Enthalpy in test data = 24.854346827416272\n"
          ]
        }
      ]
    },
    {
      "cell_type": "markdown",
      "source": [
        "**Mean difference between predicted and actual values - test data**"
      ],
      "metadata": {
        "id": "Y_I12wM0a7PX"
      }
    },
    {
      "cell_type": "code",
      "source": [
        "# Calculating mean difference between predicted and actual values - test data\n",
        "mean_diff = np.sum(abs(np.subtract(np.array(y2_test_pred).ravel(), np.array(y2_test_df)))) / len(y2_test_pred)\n",
        "print(f'Mean difference between predicted and actual enthalpy values in test data = {mean_diff}')"
      ],
      "metadata": {
        "colab": {
          "base_uri": "https://localhost:8080/"
        },
        "id": "bOhkH7a_arPm",
        "outputId": "65e5256d-c27b-442c-812a-ab6104f3a384"
      },
      "execution_count": null,
      "outputs": [
        {
          "output_type": "stream",
          "name": "stdout",
          "text": [
            "Mean difference between predicted and actual enthalpy values in test data = 17.41113163183904\n"
          ]
        }
      ]
    },
    {
      "cell_type": "markdown",
      "source": [
        "### **For 'Cp'**"
      ],
      "metadata": {
        "id": "dnFiE9RBbZtT"
      }
    },
    {
      "cell_type": "code",
      "source": [
        "from xgboost import XGBRegressor\n",
        "\n",
        "# Define the model\n",
        "model3 = XGBRegressor(n_estimators=100, max_depth=5, learning_rate=0.1)\n",
        "\n",
        "# Train the model\n",
        "xgb_res3 = model3.fit(x_train_df, y3_train_df)\n",
        "\n",
        "# Evaluate the model\n",
        "score3 = model3.score(x_test_df, y3_test_df)\n",
        "print('Test score for Cp prediction by XGBoost model:', score3)"
      ],
      "metadata": {
        "colab": {
          "base_uri": "https://localhost:8080/"
        },
        "id": "rfVEk7eobf7j",
        "outputId": "61db0ae5-c24f-47fc-c463-7163ed3fc595"
      },
      "execution_count": null,
      "outputs": [
        {
          "output_type": "stream",
          "name": "stdout",
          "text": [
            "Test score for Cp prediction by XGBoost model: 0.5917058500040788\n"
          ]
        }
      ]
    },
    {
      "cell_type": "code",
      "source": [
        "x_new = x_test_df[:5] # pretend these are new instances\n",
        "y3_pred = model3.predict(x_new)\n",
        "# print(np.array(y_test_df[:3]))\n",
        "print(f'Actual values: {np.array(y3_test_df[:5])}; Predicted values: {y3_pred.ravel()}')"
      ],
      "metadata": {
        "colab": {
          "base_uri": "https://localhost:8080/"
        },
        "id": "nkdHTvinbERQ",
        "outputId": "b1040335-b97e-44b3-91e1-66b67d5f6e15"
      },
      "execution_count": null,
      "outputs": [
        {
          "output_type": "stream",
          "name": "stdout",
          "text": [
            "Actual values: [29.11  29.568 26.777 29.111 25.203]; Predicted values: [28.860216 29.114943 27.103693 27.297962 25.886719]\n"
          ]
        }
      ]
    },
    {
      "cell_type": "markdown",
      "source": [
        "**Standard deviation between predicted and actual values - test data**"
      ],
      "metadata": {
        "id": "YjylMmhsbmYh"
      }
    },
    {
      "cell_type": "code",
      "source": [
        "# Calculate the standard deviation between predicted and actual values - test data\n",
        "y3_test_pred = model3.predict(x_test_df)\n",
        "sd = np.std(y3_test_pred - np.array(y3_test_df))\n",
        "print(f'Standard deviation between actual Cp and predicted Cp in test data = {sd}')"
      ],
      "metadata": {
        "colab": {
          "base_uri": "https://localhost:8080/"
        },
        "id": "k_fwzvQIbEHJ",
        "outputId": "2c4df329-5f22-41b0-cc9a-a4dc1e8fe4a0"
      },
      "execution_count": null,
      "outputs": [
        {
          "output_type": "stream",
          "name": "stdout",
          "text": [
            "Standard deviation between actual Cp and predicted Cp in test data = 2.2580727489732384\n"
          ]
        }
      ]
    },
    {
      "cell_type": "markdown",
      "source": [
        "**Mean difference between predicted and actual values - test data**"
      ],
      "metadata": {
        "id": "wB7RmL8gbqQM"
      }
    },
    {
      "cell_type": "code",
      "source": [
        "# Calculating mean difference between predicted and actual values - test data\n",
        "mean_diff = np.sum(abs(np.subtract(np.array(y3_test_pred).ravel(), np.array(y3_test_df)))) / len(y3_test_pred)\n",
        "print(f'Mean difference between predicted and actual Cp values in test data = {mean_diff}')"
      ],
      "metadata": {
        "colab": {
          "base_uri": "https://localhost:8080/"
        },
        "id": "c2P3LcvMbD7V",
        "outputId": "51ef9582-275a-4049-cc3a-61a79af05ee5"
      },
      "execution_count": null,
      "outputs": [
        {
          "output_type": "stream",
          "name": "stdout",
          "text": [
            "Mean difference between predicted and actual Cp values in test data = 1.6759419424216775\n"
          ]
        }
      ]
    },
    {
      "cell_type": "markdown",
      "source": [
        "**Results upon using XGBoost for 'Enthalpy' and 'Cp':**  \n",
        "\n",
        "Test error for enthalpy = 0.65629  \n",
        "Standard deviation between predicted and actual enthalpy values = 24.8543  \n",
        "Mean difference between predicted & actual enthalpy values = 17.411  \n",
        "Actual values: [-383.764391 -458.952075 -456.560753 -420.53807  -394.815076]; Predicted values: [-373.50858 -433.95438 -429.9226  -411.8949  -397.7279 ]  \n",
        "\n",
        "Test error for specific heat = 0.59170  \n",
        "Standard deviation between predicted and actual Cp values = 2.258  \n",
        "Mean difference between predicted and actual CP values = 1.676  \n",
        "Actual values: [29.11  29.568 26.777 29.111 25.203]; Predicted values: [28.860216 29.114943 27.103693 27.297962 25.886719]   \n",
        "\n",
        "The results convey that the XGBoost model for predicting enthalpy and specific heat give decentlfairly accurate predictions compared to the CNN model.  \n",
        "\n",
        "Hence, we finalize the CNN model for predicting formation energy values  \n",
        "&  \n",
        "the XGBoost model for predicting enthalpy and specific heat  "
      ],
      "metadata": {
        "id": "JTJ2QSD8h5fh"
      }
    },
    {
      "cell_type": "markdown",
      "source": [
        "### **Parity plots**"
      ],
      "metadata": {
        "id": "9MOD8zIqipJg"
      }
    },
    {
      "cell_type": "markdown",
      "source": [
        "**Formation energy**"
      ],
      "metadata": {
        "id": "cCgh8Qaum_jY"
      }
    },
    {
      "cell_type": "code",
      "source": [
        "fig, ax = plt.subplots()\n",
        "ax.scatter(y1_test_df, y1_test_pred) \n",
        "ax.plot(ax.get_xlim(), ax.get_ylim(), ls=\"--\", c=\".3\")\n",
        "ax.set_xlabel(\"True 'Hg' values\")\n",
        "ax.set_ylabel(\"Predictied 'Hg' values\")\n",
        "ax.set_aspect(\"equal\")\n",
        "ax.set_title('Parity plot for formation energy predictions using XGBoost model')\n",
        "plt.show()"
      ],
      "metadata": {
        "colab": {
          "base_uri": "https://localhost:8080/",
          "height": 413
        },
        "id": "is5lC2Bgio1h",
        "outputId": "d9b51d20-c076-48f4-e995-9a709465fa0c"
      },
      "execution_count": null,
      "outputs": [
        {
          "output_type": "display_data",
          "data": {
            "text/plain": [
              "<Figure size 640x480 with 1 Axes>"
            ],
            "image/png": "[encoded data removed]"
          },
          "metadata": {}
        }
      ]
    },
    {
      "cell_type": "markdown",
      "source": [
        "**Enthalpy**"
      ],
      "metadata": {
        "id": "y48ZsohEotNm"
      }
    },
    {
      "cell_type": "code",
      "source": [
        "fig, ax = plt.subplots()\n",
        "ax.scatter(y2_test_df, y2_test_pred) \n",
        "ax.plot(ax.get_xlim(), ax.get_ylim(), ls=\"--\", c=\".3\")\n",
        "ax.set_xlabel(\"True 'Enthalpy' values\")\n",
        "ax.set_ylabel(\"Predictied 'Enthalpy' values\")\n",
        "ax.set_aspect(\"equal\")\n",
        "ax.set_title('Parity plot for enthalpy predictions using XGBoost model')\n",
        "plt.show()"
      ],
      "metadata": {
        "colab": {
          "base_uri": "https://localhost:8080/",
          "height": 323
        },
        "id": "FZTJu57koTxQ",
        "outputId": "351439b2-fede-4e0c-b35e-5edf458ade18"
      },
      "execution_count": null,
      "outputs": [
        {
          "output_type": "display_data",
          "data": {
            "text/plain": [
              "<Figure size 640x480 with 1 Axes>"
            ],
            "image/png": "[encoded data removed]"
          },
          "metadata": {}
        }
      ]
    },
    {
      "cell_type": "markdown",
      "source": [
        "**Specific heat**"
      ],
      "metadata": {
        "id": "JdmWsZ1kozaw"
      }
    },
    {
      "cell_type": "code",
      "source": [
        "fig, ax = plt.subplots()\n",
        "ax.scatter(y3_test_df, y3_test_pred) \n",
        "ax.plot(ax.get_xlim(), ax.get_ylim(), ls=\"--\", c=\".3\")\n",
        "ax.set_xlabel(\"True 'Cp' values\")\n",
        "ax.set_ylabel(\"Predictied 'Cp' values\")\n",
        "ax.set_aspect(\"equal\")\n",
        "ax.set_title('Parity plot for specific heat predictions using XGBoost model')\n",
        "plt.show()"
      ],
      "metadata": {
        "colab": {
          "base_uri": "https://localhost:8080/",
          "height": 371
        },
        "id": "4qpSAP76orSk",
        "outputId": "fc48e8ca-1d38-478a-c9c8-47d9dccf1f44"
      },
      "execution_count": null,
      "outputs": [
        {
          "output_type": "display_data",
          "data": {
            "text/plain": [
              "<Figure size 640x480 with 1 Axes>"
            ],
            "image/png": "[encoded data removed]"
          },
          "metadata": {}
        }
      ]
    }
  ]
}